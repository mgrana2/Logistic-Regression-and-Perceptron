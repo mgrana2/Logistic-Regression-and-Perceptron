{
 "cells": [
  {
   "attachments": {},
   "cell_type": "markdown",
   "metadata": {},
   "source": [
    "# Perceptron"
   ]
  },
  {
   "cell_type": "code",
   "execution_count": 26,
   "metadata": {},
   "outputs": [
    {
     "data": {
      "text/plain": [
       "dict_keys(['data', 'target', 'frame', 'feature_names', 'target_names', 'images', 'DESCR'])"
      ]
     },
     "execution_count": 26,
     "metadata": {},
     "output_type": "execute_result"
    }
   ],
   "source": [
    "import numpy as np\n",
    "from sklearn.datasets import load_digits\n",
    "digits = load_digits()\n",
    "digits.keys()"
   ]
  },
  {
   "cell_type": "code",
   "execution_count": 27,
   "metadata": {},
   "outputs": [],
   "source": [
    "from sklearn.datasets import load_digits\n",
    "import numpy as np\n",
    "\n",
    "digits = load_digits()\n",
    "\n",
    "# Create data dictionary\n",
    "data = [{'vector': x, 'digit': y} for (x, y) in zip(digits.data, digits.target)]\n",
    "\n",
    "def train(target_digit, opposite_digit, steps):\n",
    "    \n",
    "    train_data = data[:1200]\n",
    "\n",
    "    # Extract examples with the target and opposite digits\n",
    "    train_data = [e for e in train_data if e['digit'] in (target_digit, opposite_digit)]\n",
    "\n",
    "    # Initialize weights to zero\n",
    "    w = np.zeros(64)\n",
    "\n",
    "    # Iterate over training data for given number of steps\n",
    "    \n",
    "    for i in range(steps):\n",
    "        for element in train_data:\n",
    "            x = element['vector']\n",
    "            y = element['digit']\n",
    "            z = np.dot(x, w)\n",
    "            \n",
    "            #Updates weights if prediction is incorrect\n",
    "            if z >= 0 and y == opposite_digit:\n",
    "                w = w - x\n",
    "            elif z < 0 and y == target_digit:\n",
    "                w = w + x\n",
    "\n",
    "    return w\n",
    "\n",
    "def predict(x, weights):\n",
    "    z = np.dot(x, weights)\n",
    "    if z >= 0:\n",
    "        return 1\n",
    "    else:\n",
    "        return -1\n",
    "\n",
    "def test(target_digit, opposite_digit, weights):\n",
    "    correct = 0\n",
    "    total = 0\n",
    "    test_data = data[1200:]\n",
    "    test_data = [e for e in test_data if e['digit'] in (target_digit, opposite_digit)]\n",
    "    for e in test_data:\n",
    "        \n",
    "        x = e['vector']\n",
    "        y = e['digit']\n",
    "        if y in (target_digit, opposite_digit):\n",
    "            total += 1\n",
    "            if predict(x, weights) == 1 and y == target_digit:\n",
    "                correct += 1\n",
    "            elif predict(x, weights) == -1 and y == opposite_digit:\n",
    "                correct += 1\n",
    "    return float(correct) / total\n"
   ]
  },
  {
   "cell_type": "code",
   "execution_count": 29,
   "metadata": {},
   "outputs": [
    {
     "name": "stdout",
     "output_type": "stream",
     "text": [
      "Success rate of differentiating 9 vs 7: 0.9747899159663865\n"
     ]
    }
   ],
   "source": [
    "target_digit = 9\n",
    "opposite_digit = 7\n",
    "steps = 100\n",
    "weights = train(target_digit, opposite_digit, steps)\n",
    "accuracy = test(target_digit, opposite_digit, weights)\n",
    "print(f\"Success rate of differentiating {target_digit} vs {opposite_digit}: {accuracy}\")"
   ]
  }
 ],
 "metadata": {
  "kernelspec": {
   "display_name": "equinox_base",
   "language": "python",
   "name": "python3"
  },
  "language_info": {
   "codemirror_mode": {
    "name": "ipython",
    "version": 3
   },
   "file_extension": ".py",
   "mimetype": "text/x-python",
   "name": "python",
   "nbconvert_exporter": "python",
   "pygments_lexer": "ipython3",
   "version": "3.10.9"
  },
  "orig_nbformat": 4,
  "vscode": {
   "interpreter": {
    "hash": "fe5896d181b91c1f459a85a02011a97f6d57380e870963da673668df1c12e6ea"
   }
  }
 },
 "nbformat": 4,
 "nbformat_minor": 2
}
